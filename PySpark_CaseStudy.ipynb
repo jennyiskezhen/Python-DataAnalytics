{
 "cells": [
  {
   "cell_type": "code",
   "execution_count": 1,
   "metadata": {},
   "outputs": [],
   "source": [
    "# !pip install pyspark"
   ]
  },
  {
   "cell_type": "code",
   "execution_count": 2,
   "metadata": {},
   "outputs": [],
   "source": [
    "import pyspark\n",
    "from pyspark.sql import SparkSession\n",
    "from pyspark.sql.functions import *\n",
    "\n",
    "from pyspark.sql.types import IntegerType"
   ]
  },
  {
   "cell_type": "code",
   "execution_count": 3,
   "metadata": {},
   "outputs": [],
   "source": [
    "spark1 = (SparkSession.builder.appName(\"SparkExampleApp\").getOrCreate())"
   ]
  },
  {
   "cell_type": "code",
   "execution_count": 4,
   "metadata": {},
   "outputs": [],
   "source": [
    "csv_file = \"SalesData.csv\"\n",
    "# df = spark1.read.format(\"csv\").option(\"inferSchema\", \"true\").option(\"header\",\"true\").load(csv_file)\n",
    "\n",
    "### option('escape','\"') to avoid confusion with inches(\"), \"\" is used when there is , in a value\n",
    "df = spark1.read.format(\"csv\").options(header='true', inferschema='true').option('escape','\"').load(csv_file)"
   ]
  },
  {
   "cell_type": "code",
   "execution_count": 5,
   "metadata": {},
   "outputs": [],
   "source": [
    "df.createOrReplaceTempView(\"u\")"
   ]
  },
  {
   "cell_type": "code",
   "execution_count": 6,
   "metadata": {},
   "outputs": [
    {
     "name": "stdout",
     "output_type": "stream",
     "text": [
      "root\n",
      " |-- Row ID: integer (nullable = true)\n",
      " |-- Order ID: string (nullable = true)\n",
      " |-- Order Date: string (nullable = true)\n",
      " |-- Ship Date: string (nullable = true)\n",
      " |-- Ship Mode: string (nullable = true)\n",
      " |-- Customer ID: string (nullable = true)\n",
      " |-- Customer Name: string (nullable = true)\n",
      " |-- Segment: string (nullable = true)\n",
      " |-- Country: string (nullable = true)\n",
      " |-- City: string (nullable = true)\n",
      " |-- State: string (nullable = true)\n",
      " |-- Postal Code: integer (nullable = true)\n",
      " |-- Region: string (nullable = true)\n",
      " |-- Product ID: string (nullable = true)\n",
      " |-- Category: string (nullable = true)\n",
      " |-- Sub-Category: string (nullable = true)\n",
      " |-- Product Name: string (nullable = true)\n",
      " |-- Sales: double (nullable = true)\n",
      " |-- Quantity: integer (nullable = true)\n",
      " |-- Discount: double (nullable = true)\n",
      " |-- Profit: double (nullable = true)\n",
      "\n",
      "+------+--------------+----------+----------+------------+-----------+-------------+--------+-------------+---------+--------+-----------+------+---------------+---------+------------+--------------------+------+--------+--------+-------+\n",
      "|Row ID|      Order ID|Order Date| Ship Date|   Ship Mode|Customer ID|Customer Name| Segment|      Country|     City|   State|Postal Code|Region|     Product ID| Category|Sub-Category|        Product Name| Sales|Quantity|Discount| Profit|\n",
      "+------+--------------+----------+----------+------------+-----------+-------------+--------+-------------+---------+--------+-----------+------+---------------+---------+------------+--------------------+------+--------+--------+-------+\n",
      "|     1|CA-2016-152156| 11/8/2016|11/11/2016|Second Class|   CG-12520|  Claire Gute|Consumer|United States|Henderson|Kentucky|      42420| South|FUR-BO-10001798|Furniture|   Bookcases|Bush Somerset Col...|261.96|       2|     0.0|41.9136|\n",
      "|     2|CA-2016-152156| 11/8/2016|11/11/2016|Second Class|   CG-12520|  Claire Gute|Consumer|United States|Henderson|Kentucky|      42420| South|FUR-CH-10000454|Furniture|      Chairs|Hon Deluxe Fabric...|731.94|       3|     0.0|219.582|\n",
      "+------+--------------+----------+----------+------------+-----------+-------------+--------+-------------+---------+--------+-----------+------+---------------+---------+------------+--------------------+------+--------+--------+-------+\n",
      "only showing top 2 rows\n",
      "\n"
     ]
    }
   ],
   "source": [
    "df.printSchema()\n",
    "df.show(2)\n",
    "\n",
    "### change data type if necessary\n",
    "# df = df.withColumn(\"Quantity\", df[\"Quantity\"].cast(IntegerType())) # or cast('float')\n",
    "# df.groupBy().sum(\"Quantity\").show()\n",
    "\n",
    "# df2 = df.select(\"Order ID\",\"Sub-Category\",\"Product Name\",\"Quantity\")\n",
    "# df2 = df[(df[\"Order ID\"] == \"CA-2017-132738\") | (df[\"Order ID\"] == \"CA-2014-112851\")]\n",
    "# df2.select(\"Product Name\").show(20,False)"
   ]
  },
  {
   "cell_type": "markdown",
   "metadata": {},
   "source": [
    "### 1. Find the best-selling product sub-category"
   ]
  },
  {
   "cell_type": "code",
   "execution_count": 7,
   "metadata": {},
   "outputs": [
    {
     "name": "stdout",
     "output_type": "stream",
     "text": [
      "+------------+-------------------+\n",
      "|Sub-Category|Total Quantity Sold|\n",
      "+------------+-------------------+\n",
      "|     Binders|               5974|\n",
      "|       Paper|               5178|\n",
      "| Furnishings|               3563|\n",
      "|      Phones|               3289|\n",
      "|     Storage|               3158|\n",
      "|         Art|               3000|\n",
      "| Accessories|               2976|\n",
      "|      Chairs|               2356|\n",
      "|  Appliances|               1729|\n",
      "|      Labels|               1400|\n",
      "|      Tables|               1241|\n",
      "|   Fasteners|                914|\n",
      "|   Envelopes|                906|\n",
      "|   Bookcases|                868|\n",
      "|    Supplies|                647|\n",
      "|    Machines|                440|\n",
      "|     Copiers|                234|\n",
      "+------------+-------------------+\n",
      "\n"
     ]
    }
   ],
   "source": [
    "# df.groupBy().sum(\"Quantity\").show()\n",
    "Sales_by_SubCat = df.groupBy(\"Sub-Category\").agg(sum(\"Quantity\").alias(\"Total Quantity Sold\"))\n",
    "Sales_by_SubCat.orderBy(\"Total Quantity Sold\", ascending = False).show()\n",
    "# Sales_by_SubCat.groupBy().sum(\"Total Quantity Sold\").show()"
   ]
  },
  {
   "cell_type": "markdown",
   "metadata": {},
   "source": [
    "### 2. Find the product category generating the highest revenue"
   ]
  },
  {
   "cell_type": "code",
   "execution_count": 8,
   "metadata": {},
   "outputs": [
    {
     "name": "stdout",
     "output_type": "stream",
     "text": [
      "+---------------+-----------------+\n",
      "|       Category|      Total Sales|\n",
      "+---------------+-----------------+\n",
      "|     Technology|836154.0329999966|\n",
      "|      Furniture|741999.7952999998|\n",
      "|Office Supplies|719047.0320000029|\n",
      "+---------------+-----------------+\n",
      "\n"
     ]
    }
   ],
   "source": [
    "rev_by_Cat = df.groupBy(\"Category\").agg(sum(\"Sales\").alias(\"Total Sales\"))\n",
    "rev_by_Cat.orderBy(\"Total Sales\", ascending = False).show()"
   ]
  },
  {
   "cell_type": "markdown",
   "metadata": {},
   "source": [
    "### 3. Compile a top 10 list of the most valuable customers"
   ]
  },
  {
   "cell_type": "code",
   "execution_count": 9,
   "metadata": {},
   "outputs": [
    {
     "name": "stdout",
     "output_type": "stream",
     "text": [
      "+-----------+------------------+\n",
      "|Customer ID|       Total Sales|\n",
      "+-----------+------------------+\n",
      "|   SM-20320|          25043.05|\n",
      "|   TC-20980|19052.217999999997|\n",
      "|   RB-19360|         15117.339|\n",
      "|   TA-21385|          14595.62|\n",
      "|   AB-10105|14473.570999999998|\n",
      "|   KL-16645|         14175.229|\n",
      "|   SC-20095|14142.333999999999|\n",
      "|   HL-15040|12873.297999999999|\n",
      "|   SE-20110|12209.438000000002|\n",
      "|   CC-12370|         12129.072|\n",
      "+-----------+------------------+\n",
      "\n"
     ]
    }
   ],
   "source": [
    "Sales_by_Cust = df.groupBy(\"Customer ID\").agg(sum(\"Sales\").alias(\"Total Sales\"))\n",
    "Sales_by_Cust.orderBy(\"Total Sales\", ascending = False).limit(10).show()"
   ]
  },
  {
   "cell_type": "markdown",
   "metadata": {},
   "source": [
    "### 4. Determine the state responsible for the highest number of orders"
   ]
  },
  {
   "cell_type": "code",
   "execution_count": 10,
   "metadata": {},
   "outputs": [
    {
     "name": "stdout",
     "output_type": "stream",
     "text": [
      "+------------+------------+\n",
      "|       State|Total orders|\n",
      "+------------+------------+\n",
      "|  California|        7667|\n",
      "|    New York|        4224|\n",
      "|       Texas|        3724|\n",
      "|Pennsylvania|        2153|\n",
      "|  Washington|        1883|\n",
      "+------------+------------+\n",
      "only showing top 5 rows\n",
      "\n"
     ]
    }
   ],
   "source": [
    "order_by_Sate = df.groupBy(\"State\").agg(sum(\"Quantity\").alias(\"Total orders\"))\n",
    "order_by_Sate.orderBy(\"Total orders\", ascending = False).show(5)"
   ]
  },
  {
   "cell_type": "markdown",
   "metadata": {},
   "source": [
    "### 5. Find the year with the highest revenue generation"
   ]
  },
  {
   "cell_type": "code",
   "execution_count": 11,
   "metadata": {},
   "outputs": [
    {
     "name": "stdout",
     "output_type": "stream",
     "text": [
      "+----+-------------+\n",
      "|Year|Total revenue|\n",
      "+----+-------------+\n",
      "|2017|    733215.26|\n",
      "|2016|     609205.6|\n",
      "|2014|     484247.5|\n",
      "|2015|    470532.51|\n",
      "+----+-------------+\n",
      "\n"
     ]
    }
   ],
   "source": [
    "df = df.withColumn(\"Order Date\",to_date(\"Order Date\", \"m/d/yyyy\"))\n",
    "df = df.withColumn(\"Year\", year(\"Order Date\"))\n",
    "\n",
    "rev_by_year = df.groupBy(\"Year\").agg(sum(\"Sales\").alias(\"Total Revenue\"))\n",
    "rev_by_year = rev_by_year.orderBy(\"Total revenue\", ascending = False)\n",
    "rev_by_year.withColumn(\"Total revenue\", round(\"Total revenue\",2)).show()"
   ]
  }
 ],
 "metadata": {
  "kernelspec": {
   "display_name": "Python 3",
   "language": "python",
   "name": "python3"
  },
  "language_info": {
   "codemirror_mode": {
    "name": "ipython",
    "version": 3
   },
   "file_extension": ".py",
   "mimetype": "text/x-python",
   "name": "python",
   "nbconvert_exporter": "python",
   "pygments_lexer": "ipython3",
   "version": "3.8.5"
  }
 },
 "nbformat": 4,
 "nbformat_minor": 4
}
