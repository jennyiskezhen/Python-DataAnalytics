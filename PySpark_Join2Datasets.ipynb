{
 "cells": [
  {
   "cell_type": "markdown",
   "metadata": {
    "id": "jPyDpDqvZuLo"
   },
   "source": [
    "# **PySpark for joining two datasets**"
   ]
  },
  {
   "cell_type": "code",
   "execution_count": 1,
   "metadata": {
    "colab": {
     "base_uri": "https://localhost:8080/"
    },
    "executionInfo": {
     "elapsed": 57604,
     "status": "ok",
     "timestamp": 1731939339671,
     "user": {
      "displayName": "Jenny Wang",
      "userId": "04831727375350627965"
     },
     "user_tz": 0
    },
    "id": "MmQC7J5cvkzE",
    "outputId": "2141a421-db15-4427-ecf5-864de8c4fdd9"
   },
   "outputs": [],
   "source": [
    "## can mount google colab to the drive\n",
    "# from google.colab import drive\n",
    "# drive.mount('/content/drive')"
   ]
  },
  {
   "cell_type": "markdown",
   "metadata": {
    "id": "cs9EInKyWicZ"
   },
   "source": [
    "Installing pyspark module"
   ]
  },
  {
   "cell_type": "code",
   "execution_count": 2,
   "metadata": {
    "id": "LJq2nzUKWujx"
   },
   "outputs": [],
   "source": [
    "#!pip install pyspark"
   ]
  },
  {
   "cell_type": "markdown",
   "metadata": {
    "id": "dVNAlw2jWiWb"
   },
   "source": [
    "Importing the modules"
   ]
  },
  {
   "cell_type": "code",
   "execution_count": 3,
   "metadata": {
    "executionInfo": {
     "elapsed": 141,
     "status": "ok",
     "timestamp": 1731944369108,
     "user": {
      "displayName": "Jenny Wang",
      "userId": "04831727375350627965"
     },
     "user_tz": 0
    },
    "id": "gS3YIWJiW7I3"
   },
   "outputs": [],
   "source": [
    "from pyspark.sql import SparkSession\n",
    "from pyspark.sql.functions import count, desc , col, max, struct\n",
    "import matplotlib.pyplot as plts"
   ]
  },
  {
   "cell_type": "markdown",
   "metadata": {
    "id": "RKuIUYLwSkNP"
   },
   "source": [
    "creating spark session"
   ]
  },
  {
   "cell_type": "code",
   "execution_count": 4,
   "metadata": {
    "cellView": "both",
    "executionInfo": {
     "elapsed": 12203,
     "status": "ok",
     "timestamp": 1731940274004,
     "user": {
      "displayName": "Jenny Wang",
      "userId": "04831727375350627965"
     },
     "user_tz": 0
    },
    "id": "XXSZBvRgSnCN"
   },
   "outputs": [],
   "source": [
    "spark = SparkSession.builder.appName(\"spark_app\").getOrCreate()"
   ]
  },
  {
   "cell_type": "markdown",
   "metadata": {
    "id": "vv_SKqr8T9mT"
   },
   "source": [
    "importing the *Listenings.csv* file:"
   ]
  },
  {
   "cell_type": "code",
   "execution_count": 5,
   "metadata": {
    "executionInfo": {
     "elapsed": 40645,
     "status": "ok",
     "timestamp": 1731940789789,
     "user": {
      "displayName": "Jenny Wang",
      "userId": "04831727375350627965"
     },
     "user_tz": 0
    },
    "id": "gK22lJDRTuKY"
   },
   "outputs": [],
   "source": [
    "listening_csv_path = \"listenings.csv\" # not uploaded to the repository due to large file\n",
    "listening_df = spark.read.format(\"CSV\").option(\"inferSchema\", True).option(\"header\",True).load(listening_csv_path)"
   ]
  },
  {
   "cell_type": "markdown",
   "metadata": {
    "id": "s1i6KVshykdn"
   },
   "source": [
    "check the data:"
   ]
  },
  {
   "cell_type": "code",
   "execution_count": 6,
   "metadata": {
    "colab": {
     "base_uri": "https://localhost:8080/"
    },
    "executionInfo": {
     "elapsed": 943,
     "status": "ok",
     "timestamp": 1731940820222,
     "user": {
      "displayName": "Jenny Wang",
      "userId": "04831727375350627965"
     },
     "user_tz": 0
    },
    "id": "5Ji0zViUyjUE",
    "outputId": "4f743390-375d-4f4a-97d4-9b61b15dca81"
   },
   "outputs": [
    {
     "name": "stdout",
     "output_type": "stream",
     "text": [
      "+-----------+-------------+--------------------+---------------+--------------------+\n",
      "|    user_id|         date|               track|         artist|               album|\n",
      "+-----------+-------------+--------------------+---------------+--------------------+\n",
      "|000Silenced|1299680100000|           Price Tag|       Jessie J|         Who You Are|\n",
      "|000Silenced|1299679920000|Price Tag (Acoust...|       Jessie J|           Price Tag|\n",
      "|000Silenced|1299679440000|Be Mine! (Ballad ...|          Robyn|            Be Mine!|\n",
      "|000Silenced|1299679200000|            Acapella|          Kelis|            Acapella|\n",
      "|000Silenced|1299675660000|   I'm Not Invisible|      The Tease|   I'm Not Invisible|\n",
      "|000Silenced|1297511400000|Bounce (Feat NORE...|       MSTRKRFT|         Fist of God|\n",
      "|000Silenced|1294498440000|Don't Stop The Mu...|        Rihanna|Addicted 2 Bassli...|\n",
      "|000Silenced|1292438340000|               ObZen|      Meshuggah|               ObZen|\n",
      "|000Silenced|1292437740000|   Yama's Messengers|         Gojira|The Way of All Flesh|\n",
      "|000Silenced|1292436360000|On the Brink of E...|   Napalm Death|Time Waits For No...|\n",
      "|000Silenced|1292436360000|On the Brink of E...|   Napalm Death|Time Waits For No...|\n",
      "|000Silenced|1292435940000|        In Deference|   Napalm Death|      Smear Campaign|\n",
      "|000Silenced|1292434920000|      Post(?)organic|    Decapitated|Organic Hallucinosis|\n",
      "|000Silenced|1292434560000|        Mind Feeders|   Dom & Roland| No Strings Attached|\n",
      "|000Silenced|1292434320000|Necrosadistic War...|Cannibal Corpse|                Kill|\n",
      "|000Silenced|1292365560000|     Dance All Night|   Dom & Roland|          Chronology|\n",
      "|000Silenced|1292365260000|          Late Night|   Dom & Roland|          Chronology|\n",
      "|000Silenced|1292365020000|          Freak Seen|   Dom & Roland|          Chronology|\n",
      "|000Silenced|1292364720000|Paradrenasite (Hi...|   Dom & Roland|          Chronology|\n",
      "|000Silenced|1292364300000|               Rhino|   Dom & Roland|          Chronology|\n",
      "+-----------+-------------+--------------------+---------------+--------------------+\n",
      "only showing top 20 rows\n",
      "\n"
     ]
    }
   ],
   "source": [
    "listening_df.show()"
   ]
  },
  {
   "cell_type": "markdown",
   "metadata": {
    "id": "HS6wd2d_woNC"
   },
   "source": [
    "delete useless columns:"
   ]
  },
  {
   "cell_type": "code",
   "execution_count": 7,
   "metadata": {
    "executionInfo": {
     "elapsed": 123,
     "status": "ok",
     "timestamp": 1731941014323,
     "user": {
      "displayName": "Jenny Wang",
      "userId": "04831727375350627965"
     },
     "user_tz": 0
    },
    "id": "pIMzBAglwtNP"
   },
   "outputs": [],
   "source": [
    "listening_df = listening_df.drop(\"date\")"
   ]
  },
  {
   "cell_type": "markdown",
   "metadata": {
    "id": "MwpJJeWa4qmn"
   },
   "source": [
    "drop the null rows:"
   ]
  },
  {
   "cell_type": "code",
   "execution_count": 8,
   "metadata": {
    "executionInfo": {
     "elapsed": 104,
     "status": "ok",
     "timestamp": 1731941021753,
     "user": {
      "displayName": "Jenny Wang",
      "userId": "04831727375350627965"
     },
     "user_tz": 0
    },
    "id": "Botf6-Vb4uqs"
   },
   "outputs": [],
   "source": [
    "listening_df = listening_df.na.drop()"
   ]
  },
  {
   "cell_type": "markdown",
   "metadata": {
    "id": "tTN6jr3K4xkF"
   },
   "source": [
    "check the dataset again:"
   ]
  },
  {
   "cell_type": "code",
   "execution_count": 9,
   "metadata": {
    "colab": {
     "base_uri": "https://localhost:8080/"
    },
    "executionInfo": {
     "elapsed": 588,
     "status": "ok",
     "timestamp": 1731941024062,
     "user": {
      "displayName": "Jenny Wang",
      "userId": "04831727375350627965"
     },
     "user_tz": 0
    },
    "id": "JDp_rdEY40u3",
    "outputId": "d246abef-dd3b-421f-a492-1b53129be410"
   },
   "outputs": [
    {
     "name": "stdout",
     "output_type": "stream",
     "text": [
      "+-----------+--------------------+---------------+--------------------+\n",
      "|    user_id|               track|         artist|               album|\n",
      "+-----------+--------------------+---------------+--------------------+\n",
      "|000Silenced|           Price Tag|       Jessie J|         Who You Are|\n",
      "|000Silenced|Price Tag (Acoust...|       Jessie J|           Price Tag|\n",
      "|000Silenced|Be Mine! (Ballad ...|          Robyn|            Be Mine!|\n",
      "|000Silenced|            Acapella|          Kelis|            Acapella|\n",
      "|000Silenced|   I'm Not Invisible|      The Tease|   I'm Not Invisible|\n",
      "|000Silenced|Bounce (Feat NORE...|       MSTRKRFT|         Fist of God|\n",
      "|000Silenced|Don't Stop The Mu...|        Rihanna|Addicted 2 Bassli...|\n",
      "|000Silenced|               ObZen|      Meshuggah|               ObZen|\n",
      "|000Silenced|   Yama's Messengers|         Gojira|The Way of All Flesh|\n",
      "|000Silenced|On the Brink of E...|   Napalm Death|Time Waits For No...|\n",
      "|000Silenced|On the Brink of E...|   Napalm Death|Time Waits For No...|\n",
      "|000Silenced|        In Deference|   Napalm Death|      Smear Campaign|\n",
      "|000Silenced|      Post(?)organic|    Decapitated|Organic Hallucinosis|\n",
      "|000Silenced|        Mind Feeders|   Dom & Roland| No Strings Attached|\n",
      "|000Silenced|Necrosadistic War...|Cannibal Corpse|                Kill|\n",
      "|000Silenced|     Dance All Night|   Dom & Roland|          Chronology|\n",
      "|000Silenced|          Late Night|   Dom & Roland|          Chronology|\n",
      "|000Silenced|          Freak Seen|   Dom & Roland|          Chronology|\n",
      "|000Silenced|Paradrenasite (Hi...|   Dom & Roland|          Chronology|\n",
      "|000Silenced|               Rhino|   Dom & Roland|          Chronology|\n",
      "+-----------+--------------------+---------------+--------------------+\n",
      "only showing top 20 rows\n",
      "\n"
     ]
    }
   ],
   "source": [
    "listening_df.show()"
   ]
  },
  {
   "cell_type": "markdown",
   "metadata": {
    "id": "Z7nKCYoZltnv"
   },
   "source": [
    "see the schema:"
   ]
  },
  {
   "cell_type": "code",
   "execution_count": 10,
   "metadata": {
    "colab": {
     "base_uri": "https://localhost:8080/"
    },
    "executionInfo": {
     "elapsed": 97,
     "status": "ok",
     "timestamp": 1731941047512,
     "user": {
      "displayName": "Jenny Wang",
      "userId": "04831727375350627965"
     },
     "user_tz": 0
    },
    "id": "qVg1jt1OyWdh",
    "outputId": "ffe09c2d-4dd3-49f4-a3c4-a7dc3c54b5bf"
   },
   "outputs": [
    {
     "name": "stdout",
     "output_type": "stream",
     "text": [
      "root\n",
      " |-- user_id: string (nullable = true)\n",
      " |-- track: string (nullable = true)\n",
      " |-- artist: string (nullable = true)\n",
      " |-- album: string (nullable = true)\n",
      "\n"
     ]
    }
   ],
   "source": [
    "listening_df.printSchema()"
   ]
  },
  {
   "cell_type": "markdown",
   "metadata": {
    "id": "JMkQsQt2xSb5"
   },
   "source": [
    "see the shape of our dataframe:"
   ]
  },
  {
   "cell_type": "code",
   "execution_count": 11,
   "metadata": {
    "colab": {
     "base_uri": "https://localhost:8080/"
    },
    "executionInfo": {
     "elapsed": 49921,
     "status": "ok",
     "timestamp": 1731941288533,
     "user": {
      "displayName": "Jenny Wang",
      "userId": "04831727375350627965"
     },
     "user_tz": 0
    },
    "id": "6POkV3YFmh6b",
    "outputId": "33d2f163-c934-499b-e143-6f833af1fd17"
   },
   "outputs": [
    {
     "name": "stdout",
     "output_type": "stream",
     "text": [
      "(13758905, 4)\n"
     ]
    }
   ],
   "source": [
    "shape = (listening_df.count(), len(listening_df.columns))\n",
    "print(shape)"
   ]
  },
  {
   "cell_type": "markdown",
   "metadata": {
    "id": "XMD0DhFl2FEJ"
   },
   "source": [
    "**Query #0:**\n",
    "select two columns: track and artist"
   ]
  },
  {
   "cell_type": "code",
   "execution_count": 12,
   "metadata": {
    "colab": {
     "base_uri": "https://localhost:8080/"
    },
    "executionInfo": {
     "elapsed": 503,
     "status": "ok",
     "timestamp": 1731941420814,
     "user": {
      "displayName": "Jenny Wang",
      "userId": "04831727375350627965"
     },
     "user_tz": 0
    },
    "id": "FZTdA5wn2TZy",
    "outputId": "8e962fbf-d779-4462-eae5-875f35969672"
   },
   "outputs": [
    {
     "name": "stdout",
     "output_type": "stream",
     "text": [
      "+---------------+--------------------+\n",
      "|         artist|               track|\n",
      "+---------------+--------------------+\n",
      "|       Jessie J|           Price Tag|\n",
      "|       Jessie J|Price Tag (Acoust...|\n",
      "|          Robyn|Be Mine! (Ballad ...|\n",
      "|          Kelis|            Acapella|\n",
      "|      The Tease|   I'm Not Invisible|\n",
      "|       MSTRKRFT|Bounce (Feat NORE...|\n",
      "|        Rihanna|Don't Stop The Mu...|\n",
      "|      Meshuggah|               ObZen|\n",
      "|         Gojira|   Yama's Messengers|\n",
      "|   Napalm Death|On the Brink of E...|\n",
      "|   Napalm Death|On the Brink of E...|\n",
      "|   Napalm Death|        In Deference|\n",
      "|    Decapitated|      Post(?)organic|\n",
      "|   Dom & Roland|        Mind Feeders|\n",
      "|Cannibal Corpse|Necrosadistic War...|\n",
      "|   Dom & Roland|     Dance All Night|\n",
      "|   Dom & Roland|          Late Night|\n",
      "|   Dom & Roland|          Freak Seen|\n",
      "|   Dom & Roland|Paradrenasite (Hi...|\n",
      "|   Dom & Roland|               Rhino|\n",
      "+---------------+--------------------+\n",
      "only showing top 20 rows\n",
      "\n"
     ]
    }
   ],
   "source": [
    "q0 = listening_df.select(\"artist\",\"track\")\n",
    "q0.show()"
   ]
  },
  {
   "cell_type": "markdown",
   "metadata": {
    "id": "QRcgXOFs2hjw"
   },
   "source": [
    "**Query #1**:\n",
    "\n",
    "find all of the records of those users who have listened to ***Rihanna***"
   ]
  },
  {
   "cell_type": "code",
   "execution_count": 13,
   "metadata": {
    "colab": {
     "base_uri": "https://localhost:8080/"
    },
    "executionInfo": {
     "elapsed": 962,
     "status": "ok",
     "timestamp": 1731941523358,
     "user": {
      "displayName": "Jenny Wang",
      "userId": "04831727375350627965"
     },
     "user_tz": 0
    },
    "id": "ICyiTMVnppLw",
    "outputId": "b81a3a87-282c-431b-ed28-8b2b07d0fa17"
   },
   "outputs": [
    {
     "name": "stdout",
     "output_type": "stream",
     "text": [
      "+-----------+--------------------+-------+--------------------+\n",
      "|    user_id|               track| artist|               album|\n",
      "+-----------+--------------------+-------+--------------------+\n",
      "|000Silenced|Don't Stop The Mu...|Rihanna|Addicted 2 Bassli...|\n",
      "|000Silenced|           Disturbia|Rihanna|Good Girl Gone Ba...|\n",
      "|00williamsl|   Hatin On The Club|Rihanna|              Random|\n",
      "|00williamsl|   Hatin On The Club|Rihanna|              Random|\n",
      "|00williamsl|         Complicated|Rihanna|                Loud|\n",
      "|00williamsl|What's My Name (f...|Rihanna|                Loud|\n",
      "|00williamsl|Kanye West feat R...|Rihanna|                Loud|\n",
      "|    0502008|Only Girl (In the...|Rihanna|                Loud|\n",
      "|      0rdos|Pon De Replay (Re...|Rihanna|    Music of the Sun|\n",
      "|      0rdos|          Now I Know|Rihanna|    Music of the Sun|\n",
      "|      0rdos|There's a Thug in...|Rihanna|    Music of the Sun|\n",
      "|      0rdos|                Rush|Rihanna|    Music of the Sun|\n",
      "|      0rdos|              Let Me|Rihanna|    Music of the Sun|\n",
      "|      0rdos|    Music of the Sun|Rihanna|    Music of the Sun|\n",
      "|      0rdos|     Willing to Wait|Rihanna|    Music of the Sun|\n",
      "|      0rdos|       The Last Time|Rihanna|    Music of the Sun|\n",
      "|      0rdos|If It's Lovin' Th...|Rihanna|    Music of the Sun|\n",
      "|      0rdos|     Here I Go Again|Rihanna|    Music of the Sun|\n",
      "|      0rdos|       Pon de Replay|Rihanna|    Music of the Sun|\n",
      "|      0rdos|                 Cry|Rihanna|  Good Girl Gone Bad|\n",
      "+-----------+--------------------+-------+--------------------+\n",
      "only showing top 20 rows\n",
      "\n"
     ]
    }
   ],
   "source": [
    "q1 = listening_df.select(\"*\").filter(listening_df.artist == \"Rihanna\")\n",
    "q1.show()"
   ]
  },
  {
   "cell_type": "markdown",
   "metadata": {
    "id": "I0IafeyvFU9O"
   },
   "source": [
    "**Query #2:**\n",
    "\n",
    "find top 10 users who are fan of ***Rihanna***"
   ]
  },
  {
   "cell_type": "code",
   "execution_count": 14,
   "metadata": {
    "colab": {
     "base_uri": "https://localhost:8080/"
    },
    "executionInfo": {
     "elapsed": 41575,
     "status": "ok",
     "timestamp": 1731942015745,
     "user": {
      "displayName": "Jenny Wang",
      "userId": "04831727375350627965"
     },
     "user_tz": 0
    },
    "id": "3-hM9kMm7JmI",
    "outputId": "5cec43db-4a49-407e-8cca-3e2fc2d8e8bd"
   },
   "outputs": [
    {
     "name": "stdout",
     "output_type": "stream",
     "text": [
      "+---------------+-----+\n",
      "|        user_id|count|\n",
      "+---------------+-----+\n",
      "|        thiessu|  179|\n",
      "|    eyessetkyle|  166|\n",
      "|           adxx|  164|\n",
      "|missnumberthree|  156|\n",
      "|helloiamnatalie|  128|\n",
      "|          nmjnb|  124|\n",
      "|        AndyyyA|  123|\n",
      "|     BIGBANG186|  121|\n",
      "|     mixedvibes|  120|\n",
      "|       AndyKitt|  115|\n",
      "+---------------+-----+\n",
      "\n"
     ]
    }
   ],
   "source": [
    "q2 = listening_df.select(\"user_id\").filter(listening_df.artist == \"Rihanna\")\n",
    "q2.groupBy(\"user_id\").agg(count(\"user_id\").alias(\"count\")).orderBy(desc(\"count\")).limit(10).show()"
   ]
  },
  {
   "cell_type": "markdown",
   "metadata": {
    "id": "hgAAl6aAcp41"
   },
   "source": [
    "**Query #3:**\n",
    "\n",
    "find top 10 famous tracks"
   ]
  },
  {
   "cell_type": "code",
   "execution_count": 15,
   "metadata": {
    "colab": {
     "base_uri": "https://localhost:8080/"
    },
    "executionInfo": {
     "elapsed": 74758,
     "status": "ok",
     "timestamp": 1731942375401,
     "user": {
      "displayName": "Jenny Wang",
      "userId": "04831727375350627965"
     },
     "user_tz": 0
    },
    "id": "qlh3IUzfJ3_I",
    "outputId": "e151e8e3-e343-4cc3-f3e8-1e063cbd1b59"
   },
   "outputs": [
    {
     "name": "stdout",
     "output_type": "stream",
     "text": [
      "+--------------+----------------+-----+\n",
      "|        artist|           track|count|\n",
      "+--------------+----------------+-----+\n",
      "| Justin Bieber|           Sorry| 3381|\n",
      "|Arctic Monkeys|Do I Wanna Know?| 2865|\n",
      "|      Bon Iver|     Skinny Love| 2836|\n",
      "|          Zayn|      PILLOWTALK| 2701|\n",
      "|   The Killers|   Mr Brightside| 2690|\n",
      "|       Rihanna|            Work| 2646|\n",
      "|      Bastille|         Pompeii| 2606|\n",
      "|Mumford & Sons| Little Lion Man| 2520|\n",
      "|Mumford & Sons|        The Cave| 2485|\n",
      "| Justin Bieber|   Love Yourself| 2481|\n",
      "+--------------+----------------+-----+\n",
      "\n"
     ]
    }
   ],
   "source": [
    "q3 = listening_df.select(\"artist\",\"track\").groupBy(\"artist\",\"track\").agg(count(\"*\").alias(\"count\"))\n",
    "q3.orderBy(desc(\"count\")).limit(10).show()"
   ]
  },
  {
   "cell_type": "markdown",
   "metadata": {
    "id": "HqhPhQvjeXt0"
   },
   "source": [
    "**Query #4:**\n",
    "\n",
    "find top 10 famous tracks of ***Rihanna***"
   ]
  },
  {
   "cell_type": "code",
   "execution_count": 16,
   "metadata": {
    "colab": {
     "base_uri": "https://localhost:8080/"
    },
    "executionInfo": {
     "elapsed": 41845,
     "status": "ok",
     "timestamp": 1731942592874,
     "user": {
      "displayName": "Jenny Wang",
      "userId": "04831727375350627965"
     },
     "user_tz": 0
    },
    "id": "D_npmdh1ec8y",
    "outputId": "a50a307e-5537-4d5e-cf8e-2778edf94fdb"
   },
   "outputs": [
    {
     "name": "stdout",
     "output_type": "stream",
     "text": [
      "+-------+--------------------+-----+\n",
      "| artist|               track|count|\n",
      "+-------+--------------------+-----+\n",
      "|Rihanna|                Work| 2646|\n",
      "|Rihanna|Only Girl (In the...| 1749|\n",
      "|Rihanna|We Found Love (fe...| 1575|\n",
      "|Rihanna|                 S&M| 1307|\n",
      "|Rihanna|            Rude Boy| 1303|\n",
      "|Rihanna|            Diamonds| 1224|\n",
      "|Rihanna|      Kiss it Better|  945|\n",
      "|Rihanna| Where Have You Been|  844|\n",
      "|Rihanna|Cheers (Drink to ...|  697|\n",
      "|Rihanna|           Needed Me|  679|\n",
      "+-------+--------------------+-----+\n",
      "\n"
     ]
    }
   ],
   "source": [
    "q4 = listening_df.select(\"artist\",\"track\").filter(listening_df.artist == \"Rihanna\")\n",
    "q4 = q4.groupBy(\"artist\",\"track\").agg(count(\"*\").alias(\"count\")).orderBy(desc(\"count\"))\n",
    "q4.limit(10).show()"
   ]
  },
  {
   "cell_type": "markdown",
   "metadata": {
    "id": "E6pgcH0p1ZXo"
   },
   "source": [
    "**Query #5:**\n",
    "\n",
    "find top 10 famous albums"
   ]
  },
  {
   "cell_type": "code",
   "execution_count": 17,
   "metadata": {
    "colab": {
     "base_uri": "https://localhost:8080/"
    },
    "executionInfo": {
     "elapsed": 65770,
     "status": "ok",
     "timestamp": 1731942917951,
     "user": {
      "displayName": "Jenny Wang",
      "userId": "04831727375350627965"
     },
     "user_tz": 0
    },
    "id": "c5YHm6yKenE7",
    "outputId": "0a396ff0-5ab7-4392-ea3c-b77f888243e6"
   },
   "outputs": [
    {
     "name": "stdout",
     "output_type": "stream",
     "text": [
      "+--------------------+--------------------+-----+\n",
      "|              artist|               album|count|\n",
      "+--------------------+--------------------+-----+\n",
      "|          Kanye West|   The Life Of Pablo|22310|\n",
      "|              The xx|                  xx|14195|\n",
      "|      Arctic Monkeys|                  AM|14090|\n",
      "|               alt-J|     An Awesome Wave|13635|\n",
      "|      Mumford & Sons|        Sigh No More|13543|\n",
      "|      Arctic Monkeys|Whatever People S...|12731|\n",
      "|            Bon Iver|            For Emma|11994|\n",
      "|              Grimes|          Art Angels|11655|\n",
      "|Florence + the Ma...|               Lungs|11362|\n",
      "|               Adele|                  21|11215|\n",
      "+--------------------+--------------------+-----+\n",
      "\n"
     ]
    }
   ],
   "source": [
    "q5 = listening_df.select(\"artist\",\"album\").groupBy(\"artist\",\"album\")\n",
    "q5.agg(count(\"*\").alias(\"count\")).orderBy(desc(\"count\")).limit(10).show()"
   ]
  },
  {
   "cell_type": "markdown",
   "metadata": {
    "id": "YXev8HQ57bdq"
   },
   "source": [
    "importing the ***genre.csv*** file:"
   ]
  },
  {
   "cell_type": "code",
   "execution_count": 18,
   "metadata": {
    "executionInfo": {
     "elapsed": 1914,
     "status": "ok",
     "timestamp": 1731943270197,
     "user": {
      "displayName": "Jenny Wang",
      "userId": "04831727375350627965"
     },
     "user_tz": 0
    },
    "id": "tpXSrYfu14PB"
   },
   "outputs": [],
   "source": [
    "genre_csv_path = \"genre.csv\"\n",
    "genre_df = spark.read.format(\"csv\").option(\"inferSchema\", True).option(\"header\", True).load(genre_csv_path)"
   ]
  },
  {
   "cell_type": "markdown",
   "metadata": {
    "id": "aCHSo36W9RcP"
   },
   "source": [
    "check the data"
   ]
  },
  {
   "cell_type": "code",
   "execution_count": 19,
   "metadata": {
    "colab": {
     "base_uri": "https://localhost:8080/"
    },
    "executionInfo": {
     "elapsed": 739,
     "status": "ok",
     "timestamp": 1731943284695,
     "user": {
      "displayName": "Jenny Wang",
      "userId": "04831727375350627965"
     },
     "user_tz": 0
    },
    "id": "LJu4Ouz89O6_",
    "outputId": "2fa6515a-e241-4eae-e333-51a9625c5886"
   },
   "outputs": [
    {
     "name": "stdout",
     "output_type": "stream",
     "text": [
      "+--------------------+-----+\n",
      "|              artist|genre|\n",
      "+--------------------+-----+\n",
      "|                Muse| rock|\n",
      "|             Nirvana| rock|\n",
      "|            Bon Jovi| rock|\n",
      "|          The Police| rock|\n",
      "|                Kiss| rock|\n",
      "|       Guns N' Roses| rock|\n",
      "|         Rusted Root| rock|\n",
      "|Katrina and the W...|  pop|\n",
      "|         The Beatles| rock|\n",
      "|        Hall & Oates|  pop|\n",
      "|        Otis Redding| soul|\n",
      "|         Marvin Gaye| soul|\n",
      "|     The Cranberries| rock|\n",
      "|            Survivor| rock|\n",
      "|       Fleetwood Mac|blues|\n",
      "|           Radiohead| rock|\n",
      "|                Toto| rock|\n",
      "|                  U2| rock|\n",
      "|Creedence Clearwa...| rock|\n",
      "|                 REM| rock|\n",
      "+--------------------+-----+\n",
      "only showing top 20 rows\n",
      "\n"
     ]
    }
   ],
   "source": [
    "genre_df.show()"
   ]
  },
  {
   "cell_type": "code",
   "execution_count": 20,
   "metadata": {
    "colab": {
     "base_uri": "https://localhost:8080/"
    },
    "executionInfo": {
     "elapsed": 385,
     "status": "ok",
     "timestamp": 1731943384709,
     "user": {
      "displayName": "Jenny Wang",
      "userId": "04831727375350627965"
     },
     "user_tz": 0
    },
    "id": "MK32Y9kG3nTe",
    "outputId": "64013170-3904-4009-9983-a18df29a83ea"
   },
   "outputs": [
    {
     "name": "stdout",
     "output_type": "stream",
     "text": [
      "+-----------+--------------------+---------------+--------------------+\n",
      "|    user_id|               track|         artist|               album|\n",
      "+-----------+--------------------+---------------+--------------------+\n",
      "|000Silenced|           Price Tag|       Jessie J|         Who You Are|\n",
      "|000Silenced|Price Tag (Acoust...|       Jessie J|           Price Tag|\n",
      "|000Silenced|Be Mine! (Ballad ...|          Robyn|            Be Mine!|\n",
      "|000Silenced|            Acapella|          Kelis|            Acapella|\n",
      "|000Silenced|   I'm Not Invisible|      The Tease|   I'm Not Invisible|\n",
      "|000Silenced|Bounce (Feat NORE...|       MSTRKRFT|         Fist of God|\n",
      "|000Silenced|Don't Stop The Mu...|        Rihanna|Addicted 2 Bassli...|\n",
      "|000Silenced|               ObZen|      Meshuggah|               ObZen|\n",
      "|000Silenced|   Yama's Messengers|         Gojira|The Way of All Flesh|\n",
      "|000Silenced|On the Brink of E...|   Napalm Death|Time Waits For No...|\n",
      "|000Silenced|On the Brink of E...|   Napalm Death|Time Waits For No...|\n",
      "|000Silenced|        In Deference|   Napalm Death|      Smear Campaign|\n",
      "|000Silenced|      Post(?)organic|    Decapitated|Organic Hallucinosis|\n",
      "|000Silenced|        Mind Feeders|   Dom & Roland| No Strings Attached|\n",
      "|000Silenced|Necrosadistic War...|Cannibal Corpse|                Kill|\n",
      "|000Silenced|     Dance All Night|   Dom & Roland|          Chronology|\n",
      "|000Silenced|          Late Night|   Dom & Roland|          Chronology|\n",
      "|000Silenced|          Freak Seen|   Dom & Roland|          Chronology|\n",
      "|000Silenced|Paradrenasite (Hi...|   Dom & Roland|          Chronology|\n",
      "|000Silenced|               Rhino|   Dom & Roland|          Chronology|\n",
      "+-----------+--------------------+---------------+--------------------+\n",
      "only showing top 20 rows\n",
      "\n"
     ]
    }
   ],
   "source": [
    "listening_df.show()"
   ]
  },
  {
   "cell_type": "markdown",
   "metadata": {
    "id": "72OpWX7F98qg"
   },
   "source": [
    "inner join these two data frames"
   ]
  },
  {
   "cell_type": "code",
   "execution_count": 21,
   "metadata": {
    "colab": {
     "base_uri": "https://localhost:8080/"
    },
    "executionInfo": {
     "elapsed": 2701,
     "status": "ok",
     "timestamp": 1731943468477,
     "user": {
      "displayName": "Jenny Wang",
      "userId": "04831727375350627965"
     },
     "user_tz": 0
    },
    "id": "NmYbMfVm3wSt",
    "outputId": "7b85b749-20fb-431a-b8dd-d5cad34d4f0d"
   },
   "outputs": [
    {
     "name": "stdout",
     "output_type": "stream",
     "text": [
      "+------------+-----------+--------------------+--------------------+--------------------+\n",
      "|      artist|    user_id|               track|               album|               genre|\n",
      "+------------+-----------+--------------------+--------------------+--------------------+\n",
      "|    Jessie J|000Silenced|           Price Tag|         Who You Are| Ariana Grande & ...|\n",
      "|    Jessie J|000Silenced|           Price Tag|         Who You Are| Jhene Aiko & Rixton|\n",
      "|    Jessie J|000Silenced|           Price Tag|         Who You Are| Nicki Minaj & Ar...|\n",
      "|    Jessie J|000Silenced|           Price Tag|         Who You Are|                 pop|\n",
      "|    Jessie J|000Silenced|Price Tag (Acoust...|           Price Tag| Ariana Grande & ...|\n",
      "|    Jessie J|000Silenced|Price Tag (Acoust...|           Price Tag| Jhene Aiko & Rixton|\n",
      "|    Jessie J|000Silenced|Price Tag (Acoust...|           Price Tag| Nicki Minaj & Ar...|\n",
      "|    Jessie J|000Silenced|Price Tag (Acoust...|           Price Tag|                 pop|\n",
      "|       Robyn|000Silenced|Be Mine! (Ballad ...|            Be Mine!|                 pop|\n",
      "|       Kelis|000Silenced|            Acapella|            Acapella|                 pop|\n",
      "|   The Tease|000Silenced|   I'm Not Invisible|   I'm Not Invisible|             hip hop|\n",
      "|    MSTRKRFT|000Silenced|Bounce (Feat NORE...|         Fist of God|          electronic|\n",
      "|     Rihanna|000Silenced|Don't Stop The Mu...|Addicted 2 Bassli...|                 SZA|\n",
      "|     Rihanna|000Silenced|Don't Stop The Mu...|Addicted 2 Bassli...| Paul McCartney &...|\n",
      "|     Rihanna|000Silenced|Don't Stop The Mu...|Addicted 2 Bassli...|          Kanye West|\n",
      "|     Rihanna|000Silenced|Don't Stop The Mu...|Addicted 2 Bassli...| Kanye West & Pau...|\n",
      "|     Rihanna|000Silenced|Don't Stop The Mu...|Addicted 2 Bassli...|                 pop|\n",
      "|   Meshuggah|000Silenced|               ObZen|               ObZen|               metal|\n",
      "|      Gojira|000Silenced|   Yama's Messengers|The Way of All Flesh|               metal|\n",
      "|Napalm Death|000Silenced|On the Brink of E...|Time Waits For No...|           grindcore|\n",
      "+------------+-----------+--------------------+--------------------+--------------------+\n",
      "only showing top 20 rows\n",
      "\n"
     ]
    }
   ],
   "source": [
    "data = listening_df.join(genre_df, how = \"inner\", on = [\"artist\"])\n",
    "data.show()"
   ]
  },
  {
   "cell_type": "markdown",
   "metadata": {
    "id": "yM_f5qILBNeI"
   },
   "source": [
    "**Query #6**\n",
    "\n",
    "find top 10 users who are fan of ***pop*** music"
   ]
  },
  {
   "cell_type": "code",
   "execution_count": 22,
   "metadata": {
    "colab": {
     "base_uri": "https://localhost:8080/"
    },
    "executionInfo": {
     "elapsed": 62026,
     "status": "ok",
     "timestamp": 1731943713074,
     "user": {
      "displayName": "Jenny Wang",
      "userId": "04831727375350627965"
     },
     "user_tz": 0
    },
    "id": "dognQVlxBi2n",
    "outputId": "554cd32e-e9b7-45df-c8a1-b591f85b108a"
   },
   "outputs": [
    {
     "name": "stdout",
     "output_type": "stream",
     "text": [
      "+---------------+-----+\n",
      "|        user_id|count|\n",
      "+---------------+-----+\n",
      "|        01Green|  496|\n",
      "|      momousagi|  400|\n",
      "|          mrpsb|  400|\n",
      "|   BlueKnockOut|  378|\n",
      "|    musicboy80s|  376|\n",
      "|  incultojurgis|  374|\n",
      "| ElektricOrchid|  370|\n",
      "|foreign_fanatic|  350|\n",
      "|   Kevin_Soutar|  346|\n",
      "|  landrover2171|  301|\n",
      "+---------------+-----+\n",
      "\n"
     ]
    }
   ],
   "source": [
    "q6 = data.select(\"user_id\").filter(data.genre == \"pop\").groupBy(\"user_id\")\n",
    "q6 = q6.agg(count(\"*\").alias(\"count\")).orderBy(desc(\"count\")).limit(10).show()"
   ]
  },
  {
   "cell_type": "markdown",
   "metadata": {
    "id": "63quzy7t-zb7"
   },
   "source": [
    "**Query #7**\n",
    "\n",
    "find top 10 famous genres"
   ]
  },
  {
   "cell_type": "code",
   "execution_count": 23,
   "metadata": {
    "colab": {
     "base_uri": "https://localhost:8080/"
    },
    "executionInfo": {
     "elapsed": 65178,
     "status": "ok",
     "timestamp": 1731943861851,
     "user": {
      "displayName": "Jenny Wang",
      "userId": "04831727375350627965"
     },
     "user_tz": 0
    },
    "id": "aDFcoPPk-Rhf",
    "outputId": "377cfe30-890d-4f7f-fc69-23546d3118ee"
   },
   "outputs": [
    {
     "name": "stdout",
     "output_type": "stream",
     "text": [
      "+----------+-------+\n",
      "|     genre|  count|\n",
      "+----------+-------+\n",
      "|      rock|2691934|\n",
      "|       pop|1544747|\n",
      "|electronic| 551509|\n",
      "|   hip hop| 532984|\n",
      "|      folk| 438174|\n",
      "|indie rock| 431439|\n",
      "|      punk| 380915|\n",
      "|       r&b| 344101|\n",
      "|     metal| 208107|\n",
      "|     indie| 206726|\n",
      "+----------+-------+\n",
      "\n"
     ]
    }
   ],
   "source": [
    "q7 = data.select(\"genre\").groupBy(\"genre\").agg(count(\"*\").alias(\"count\"))\n",
    "q7.orderBy(desc(\"count\")).limit(10).show()"
   ]
  },
  {
   "cell_type": "markdown",
   "metadata": {
    "id": "hrZOAWVgLMZo"
   },
   "source": [
    "**Query #8**\n",
    "\n",
    "find out each user favourite genre"
   ]
  },
  {
   "cell_type": "code",
   "execution_count": 24,
   "metadata": {
    "colab": {
     "base_uri": "https://localhost:8080/"
    },
    "executionInfo": {
     "elapsed": 89597,
     "status": "ok",
     "timestamp": 1731944283105,
     "user": {
      "displayName": "Jenny Wang",
      "userId": "04831727375350627965"
     },
     "user_tz": 0
    },
    "id": "H3AWxlkbLvCg",
    "outputId": "96874bc6-ab2f-4f55-abf2-2e38383ff8d6"
   },
   "outputs": [
    {
     "name": "stdout",
     "output_type": "stream",
     "text": [
      "+-------+--------------------+-----+\n",
      "|user_id|               genre|count|\n",
      "+-------+--------------------+-----+\n",
      "| --Seph|               Bjorn|    8|\n",
      "| --Seph| Capella Istropol...|    2|\n",
      "| --Seph|      Alice Sara Ott|    2|\n",
      "| --Seph| Arnór Dan & Doug...|    1|\n",
      "| --Seph| Charis Henry & M...|    4|\n",
      "| --Seph|        experimental|    3|\n",
      "| --Seph| London Symphony ...|    1|\n",
      "| --Seph|             Hittman|    4|\n",
      "| --Seph| Richard Armitage...|    1|\n",
      "| --Seph|     Hilko Schomerus|    1|\n",
      "| --Seph|    Sir James Galway|    1|\n",
      "| --Seph|           Disciples|    1|\n",
      "| --Seph|          Snoop Dogg|    4|\n",
      "| --Seph| Ne-Yo & Nicky Ro...|    1|\n",
      "| --Seph|       chamber music|    1|\n",
      "| --Seph|                 RBX|    4|\n",
      "| --Seph|          electronic|    6|\n",
      "| --Seph|             Rihanna|    1|\n",
      "| --Seph|          soundtrack|    1|\n",
      "| --Seph|   Alesso Feat Hurts|    1|\n",
      "+-------+--------------------+-----+\n",
      "only showing top 20 rows\n",
      "\n"
     ]
    }
   ],
   "source": [
    "q8_1 = data.select(\"user_id\",\"genre\").groupBy(\"user_id\",\"genre\").agg(count(\"*\").alias(\"count\"))\n",
    "q8_1.orderBy(\"user_id\").show()"
   ]
  },
  {
   "cell_type": "code",
   "execution_count": 25,
   "metadata": {
    "colab": {
     "base_uri": "https://localhost:8080/"
    },
    "executionInfo": {
     "elapsed": 104103,
     "status": "ok",
     "timestamp": 1731947795769,
     "user": {
      "displayName": "Jenny Wang",
      "userId": "04831727375350627965"
     },
     "user_tz": 0
    },
    "id": "Soy2bMxQN-Ub",
    "outputId": "1632d487-6c52-4c65-df60-9aca0b3d462d"
   },
   "outputs": [
    {
     "name": "stdout",
     "output_type": "stream",
     "text": [
      "+---------------+-----------+\n",
      "|        user_id|      genre|\n",
      "+---------------+-----------+\n",
      "|      --Shinn--|       rock|\n",
      "|          -DeWp|    hip hop|\n",
      "|        -Gemma-|british pop|\n",
      "|   -Gingergirl-|        pop|\n",
      "| -SleepingStar-|black metal|\n",
      "|-invinoveritas-|     comedy|\n",
      "|         -laura|        rap|\n",
      "|         -wasp-|       rock|\n",
      "|   -x-kelsey-x-|        pop|\n",
      "|        00Lemon|       rock|\n",
      "|      00fieldsy|       rock|\n",
      "|     01higginsr|    hip hop|\n",
      "|      03swalker|       rock|\n",
      "|        0503611|       rock|\n",
      "|        0Chris0|    hip hop|\n",
      "|        0Laura0| industrial|\n",
      "|         0ptriX|       rock|\n",
      "|    12thmarquis|       rock|\n",
      "|           1936|        pop|\n",
      "|        1Marley|        r&b|\n",
      "+---------------+-----------+\n",
      "only showing top 20 rows\n",
      "\n"
     ]
    }
   ],
   "source": [
    "q8_2 = q8_1.groupBy(\"user_id\").agg(max(struct(col(\"count\"), col(\"genre\"))).alias(\"max\"))\n",
    "# q8_2.show()\n",
    "q8_2.select(col(\"user_id\"),col(\"max.genre\")).show()"
   ]
  },
  {
   "cell_type": "markdown",
   "metadata": {
    "id": "6oIyhOHkCDuv"
   },
   "source": [
    "**Query #9**\n",
    "\n",
    "find out how many pop,rock,metal and hip hop singers we have\n",
    "\n",
    "and then visulize it using bar chart"
   ]
  },
  {
   "cell_type": "code",
   "execution_count": 26,
   "metadata": {
    "colab": {
     "base_uri": "https://localhost:8080/"
    },
    "executionInfo": {
     "elapsed": 806,
     "status": "ok",
     "timestamp": 1731945375188,
     "user": {
      "displayName": "Jenny Wang",
      "userId": "04831727375350627965"
     },
     "user_tz": 0
    },
    "id": "7_lEjNKVCDJv",
    "outputId": "3d02ea7b-f3d2-4f9c-8500-d1eb924486ca"
   },
   "outputs": [
    {
     "name": "stdout",
     "output_type": "stream",
     "text": [
      "+-------+-----+\n",
      "|  genre|count|\n",
      "+-------+-----+\n",
      "|    pop| 6960|\n",
      "|hip hop| 4288|\n",
      "|  metal| 1854|\n",
      "|   rock| 9066|\n",
      "+-------+-----+\n",
      "\n"
     ]
    }
   ],
   "source": [
    "q9 = genre_df.select(\"genre\").filter((col(\"genre\") == \"pop\") | (col(\"genre\") == \"rock\") | (col(\"genre\") == \"metal\") | (col(\"genre\") == \"hip hop\"))\n",
    "q9 = q9.groupBy(\"genre\").agg(count(\"*\").alias(\"count\"))\n",
    "q9.show()"
   ]
  },
  {
   "cell_type": "markdown",
   "metadata": {
    "id": "h0h2SSk8InMH"
   },
   "source": [
    "Visualize the results using ***matplotlib***"
   ]
  },
  {
   "cell_type": "code",
   "execution_count": 27,
   "metadata": {
    "colab": {
     "base_uri": "https://localhost:8080/"
    },
    "executionInfo": {
     "elapsed": 116,
     "status": "ok",
     "timestamp": 1731945603989,
     "user": {
      "displayName": "Jenny Wang",
      "userId": "04831727375350627965"
     },
     "user_tz": 0
    },
    "id": "J-n8gOC0Imj5",
    "outputId": "6a71bd7e-95ab-4e5a-d8e4-a08ddd2e1dd0"
   },
   "outputs": [
    {
     "data": {
      "text/plain": [
       "[Row(genre='pop', count=6960),\n",
       " Row(genre='hip hop', count=4288),\n",
       " Row(genre='metal', count=1854),\n",
       " Row(genre='rock', count=9066)]"
      ]
     },
     "execution_count": 27,
     "metadata": {},
     "output_type": "execute_result"
    }
   ],
   "source": [
    "q9_list = q9.collect()\n",
    "q9_list"
   ]
  },
  {
   "cell_type": "code",
   "execution_count": 28,
   "metadata": {
    "colab": {
     "base_uri": "https://localhost:8080/"
    },
    "executionInfo": {
     "elapsed": 2146,
     "status": "ok",
     "timestamp": 1731945730821,
     "user": {
      "displayName": "Jenny Wang",
      "userId": "04831727375350627965"
     },
     "user_tz": 0
    },
    "id": "0wy-4bRTAgnW",
    "outputId": "ee81b11a-38b7-434a-d7bb-1488e58181ad"
   },
   "outputs": [
    {
     "name": "stdout",
     "output_type": "stream",
     "text": [
      "+-------+\n",
      "|  genre|\n",
      "+-------+\n",
      "|    pop|\n",
      "|hip hop|\n",
      "|  metal|\n",
      "|   rock|\n",
      "+-------+\n",
      "\n"
     ]
    }
   ],
   "source": [
    "q9.select(\"genre\").show()"
   ]
  },
  {
   "cell_type": "code",
   "execution_count": 29,
   "metadata": {
    "executionInfo": {
     "elapsed": 100,
     "status": "ok",
     "timestamp": 1731945666401,
     "user": {
      "displayName": "Jenny Wang",
      "userId": "04831727375350627965"
     },
     "user_tz": 0
    },
    "id": "CMigHLrEQgKv"
   },
   "outputs": [],
   "source": [
    "lables = [row[\"genre\"] for row in q9_list]\n",
    "counts = [row[\"count\"] for row in q9_list]"
   ]
  },
  {
   "cell_type": "code",
   "execution_count": 30,
   "metadata": {
    "colab": {
     "base_uri": "https://localhost:8080/"
    },
    "executionInfo": {
     "elapsed": 121,
     "status": "ok",
     "timestamp": 1731945684942,
     "user": {
      "displayName": "Jenny Wang",
      "userId": "04831727375350627965"
     },
     "user_tz": 0
    },
    "id": "FYLE4Mbu_Lbu",
    "outputId": "46f31064-5a15-47e4-85e1-8af66d65c854"
   },
   "outputs": [
    {
     "name": "stdout",
     "output_type": "stream",
     "text": [
      "['pop', 'hip hop', 'metal', 'rock']\n",
      "[6960, 4288, 1854, 9066]\n"
     ]
    }
   ],
   "source": [
    "print(lables)\n",
    "print(counts)"
   ]
  },
  {
   "cell_type": "markdown",
   "metadata": {
    "id": "1iDrvEwYQ4AE"
   },
   "source": [
    "now lets visualize these two lists using a bar chart"
   ]
  },
  {
   "cell_type": "code",
   "execution_count": 31,
   "metadata": {
    "colab": {
     "base_uri": "https://localhost:8080/",
     "height": 447
    },
    "executionInfo": {
     "elapsed": 444,
     "status": "ok",
     "timestamp": 1731945943172,
     "user": {
      "displayName": "Jenny Wang",
      "userId": "04831727375350627965"
     },
     "user_tz": 0
    },
    "id": "XOOq1U9BQjKI",
    "outputId": "03408004-694c-4d64-9c07-99580dd2db0d"
   },
   "outputs": [
    {
     "data": {
      "text/plain": [
       "<BarContainer object of 4 artists>"
      ]
     },
     "execution_count": 31,
     "metadata": {},
     "output_type": "execute_result"
    },
    {
     "data": {
      "image/png": "[encoded data removed]",
      "text/plain": [
       "<Figure size 432x288 with 1 Axes>"
      ]
     },
     "metadata": {
      "needs_background": "light"
     },
     "output_type": "display_data"
    }
   ],
   "source": [
    "plts.bar(lables, counts)"
   ]
  }
 ],
 "metadata": {
  "colab": {
   "provenance": []
  },
  "kernelspec": {
   "display_name": "Python 3",
   "language": "python",
   "name": "python3"
  },
  "language_info": {
   "codemirror_mode": {
    "name": "ipython",
    "version": 3
   },
   "file_extension": ".py",
   "mimetype": "text/x-python",
   "name": "python",
   "nbconvert_exporter": "python",
   "pygments_lexer": "ipython3",
   "version": "3.8.5"
  }
 },
 "nbformat": 4,
 "nbformat_minor": 1
}
